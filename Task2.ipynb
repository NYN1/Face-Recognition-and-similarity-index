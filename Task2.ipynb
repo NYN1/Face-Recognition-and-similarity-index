{
  "nbformat": 4,
  "nbformat_minor": 0,
  "metadata": {
    "colab": {
      "name": "Rainet part2.ipynb",
      "private_outputs": true,
      "provenance": []
    },
    "kernelspec": {
      "name": "python3",
      "display_name": "Python 3"
    },
    "language_info": {
      "name": "python"
    },
    "accelerator": "GPU"
  },
  "cells": [
    {
      "cell_type": "code",
      "metadata": {
        "id": "HGllC9nRb4e4"
      },
      "source": [
        "#import the required functions\n",
        "import numpy as np \n",
        "import pandas as pd \n",
        "import cv2\n",
        "import time\n",
        "import random\n",
        "from tqdm import tqdm\n",
        "import matplotlib.pyplot as plt\n",
        "from skimage.feature import hog\n",
        "import os\n",
        "import re\n",
        "from sklearn.svm import SVC\n",
        "from sklearn.model_selection import train_test_split , GridSearchCV\n",
        "from sklearn.metrics import confusion_matrix, classification_report , accuracy_score"
      ],
      "execution_count": null,
      "outputs": []
    },
    {
      "cell_type": "code",
      "metadata": {
        "id": "BKqXnhZzcBYX"
      },
      "source": [
        "from google.colab import drive\n",
        "drive.mount('/content/gdrive')"
      ],
      "execution_count": null,
      "outputs": []
    },
    {
      "cell_type": "code",
      "metadata": {
        "id": "gwCE8rZCcH2A"
      },
      "source": [
        "folderpath = \"/content/gdrive/MyDrive/PROJECT_D/PINS\"\n",
        "#images_1 = '/content/gdrive/MyDrive/PROJECT_D/PINS/pins_Aaron Paul'\n",
        "width = 224\n",
        "height = 224"
      ],
      "execution_count": null,
      "outputs": []
    },
    {
      "cell_type": "code",
      "metadata": {
        "id": "24r-vayxdmT-"
      },
      "source": [
        "#Extracting the names and the images into 2 arrays. note this process takes 32 min\n",
        "labels = []\n",
        "data = []\n",
        "for dirname,_, filenames in tqdm(os.walk(folderpath)):\n",
        "    for filename in filenames:\n",
        "        image = cv2.imread(os.path.join(dirname, filename))\n",
        "        image = cv2.resize(image , (width,height))\n",
        "        labels.append(dirname.split(\"/\")[-1])\n",
        "        data.append(image)"
      ],
      "execution_count": null,
      "outputs": []
    },
    {
      "cell_type": "code",
      "metadata": {
        "id": "ErJEdqQHdtOh"
      },
      "source": [
        "#VGG FACE MODEL\n",
        "import numpy as np\n",
        "import tensorflow as tf\n",
        "from tensorflow import keras\n",
        "from tensorflow.keras.models import Sequential,Model\n",
        "from tensorflow.keras.layers import ZeroPadding2D,Convolution2D,MaxPooling2D\n",
        "from tensorflow.keras.layers import Dense,Dropout,Softmax,Flatten,Activation,BatchNormalization\n",
        "from tensorflow.keras.preprocessing.image import load_img,img_to_array\n",
        "from tensorflow.keras.applications.imagenet_utils import preprocess_input\n",
        "import tensorflow.keras.backend as K\n",
        "\n",
        "# Define VGG_FACE_MODEL architecture\n",
        "model = Sequential()\n",
        "model.add(ZeroPadding2D((1,1),input_shape=(224,224, 3)))\n",
        "model.add(Convolution2D(64, (3, 3), activation='relu'))\n",
        "model.add(ZeroPadding2D((1,1)))\n",
        "model.add(Convolution2D(64, (3, 3), activation='relu'))\n",
        "model.add(MaxPooling2D((2,2), strides=(2,2)))\n",
        "model.add(ZeroPadding2D((1,1)))\t\n",
        "model.add(Convolution2D(128, (3, 3), activation='relu'))\n",
        "model.add(ZeroPadding2D((1,1)))\n",
        "model.add(Convolution2D(128, (3, 3), activation='relu'))\n",
        "model.add(MaxPooling2D((2,2), strides=(2,2)))\n",
        "model.add(ZeroPadding2D((1,1)))\n",
        "model.add(Convolution2D(256, (3, 3), activation='relu'))\n",
        "model.add(ZeroPadding2D((1,1)))\n",
        "model.add(Convolution2D(256, (3, 3), activation='relu'))\n",
        "model.add(ZeroPadding2D((1,1)))\n",
        "model.add(Convolution2D(256, (3, 3), activation='relu'))\n",
        "model.add(MaxPooling2D((2,2), strides=(2,2)))\n",
        "model.add(ZeroPadding2D((1,1)))\n",
        "model.add(Convolution2D(512, (3, 3), activation='relu'))\n",
        "model.add(ZeroPadding2D((1,1)))\n",
        "model.add(Convolution2D(512, (3, 3), activation='relu'))\n",
        "model.add(ZeroPadding2D((1,1)))\n",
        "model.add(Convolution2D(512, (3, 3), activation='relu'))\n",
        "model.add(MaxPooling2D((2,2), strides=(2,2)))\n",
        "model.add(ZeroPadding2D((1,1)))\n",
        "model.add(Convolution2D(512, (3, 3), activation='relu'))\n",
        "model.add(ZeroPadding2D((1,1)))\n",
        "model.add(Convolution2D(512, (3, 3), activation='relu'))\n",
        "model.add(ZeroPadding2D((1,1)))\n",
        "model.add(Convolution2D(512, (3, 3), activation='relu'))\n",
        "model.add(MaxPooling2D((2,2), strides=(2,2)))\n",
        "model.add(Convolution2D(4096, (7, 7), activation='relu'))\n",
        "model.add(Dropout(0.5))\n",
        "model.add(Convolution2D(4096, (1, 1), activation='relu'))\n",
        "model.add(Dropout(0.5))\n",
        "model.add(Convolution2D(2622, (1, 1)))\n",
        "model.add(Flatten())\n",
        "model.add(Activation('softmax'))\n",
        "\n",
        "# Load VGG Face model weights\n",
        "model.load_weights('/content/gdrive/MyDrive/PROJECT_D/Part 3 - vgg_face_weights.h5')"
      ],
      "execution_count": null,
      "outputs": []
    },
    {
      "cell_type": "code",
      "metadata": {
        "id": "sz6Dqi5dsHLB"
      },
      "source": [
        "#PLAYING AROUND WITH DATA\n",
        "print(labels[0:100])"
      ],
      "execution_count": null,
      "outputs": []
    },
    {
      "cell_type": "code",
      "metadata": {
        "id": "y1ViLbx4sSNw"
      },
      "source": [
        "print(data[0].shape)"
      ],
      "execution_count": null,
      "outputs": []
    },
    {
      "cell_type": "code",
      "metadata": {
        "id": "lRe7l6R5l7Vv"
      },
      "source": [
        "#IMPORT THE VGG MODEL\n",
        "vgg_face_descriptor = Model(inputs=model.layers[0].input, outputs=model.layers[-2].output)"
      ],
      "execution_count": null,
      "outputs": []
    },
    {
      "cell_type": "code",
      "metadata": {
        "id": "y9W3Da1FmJBw"
      },
      "source": [
        "#GETTING THE ENCODINGS\n",
        "img = np.expand_dims(data[0], axis=0)\n",
        "imgs_representation = vgg_face_descriptor.predict(img)"
      ],
      "execution_count": null,
      "outputs": []
    },
    {
      "cell_type": "code",
      "metadata": {
        "id": "9OVOgaDcglKB"
      },
      "source": [
        "print(imgs_representation.shape)"
      ],
      "execution_count": null,
      "outputs": []
    },
    {
      "cell_type": "code",
      "metadata": {
        "id": "8V813C8gtWjK"
      },
      "source": [
        "len(data)"
      ],
      "execution_count": null,
      "outputs": []
    },
    {
      "cell_type": "code",
      "metadata": {
        "id": "i3_tlDDvtaO4"
      },
      "source": [
        "#APPENDING ALL THE ENCODINGS INTO A ARRAY CALLED ENCODINGS_ARR\n",
        "encodings_arr = []\n",
        "for i in range(0,len(data)):\n",
        "  img = np.expand_dims(data[i], axis=0)\n",
        "  imgs_representation = vgg_face_descriptor.predict(img)\n",
        "  encodings_arr.append(imgs_representation)"
      ],
      "execution_count": null,
      "outputs": []
    },
    {
      "cell_type": "code",
      "metadata": {
        "id": "TQ9XZkpUyUXe"
      },
      "source": [
        "print(len(encodings_arr))\n",
        "print(len(labels))"
      ],
      "execution_count": null,
      "outputs": []
    },
    {
      "cell_type": "code",
      "metadata": {
        "id": "tKUqzPXZt67A"
      },
      "source": [
        "#LABEL ENCODER FOR NAMES\n",
        "from sklearn.preprocessing import LabelEncoder\n",
        "\n",
        "le = LabelEncoder()\n",
        "Labels= le.fit_transform(labels)"
      ],
      "execution_count": null,
      "outputs": []
    },
    {
      "cell_type": "code",
      "metadata": {
        "id": "TNgjBJXnzCEG"
      },
      "source": [
        "#TRAINING AND TESTING\n",
        "X_train = encodings_arr\n",
        "Y_train = Labels\n",
        "X_test = encodings_arr[9000:]\n",
        "Y_test = Labels[9000:]"
      ],
      "execution_count": null,
      "outputs": []
    },
    {
      "cell_type": "code",
      "metadata": {
        "id": "uOGemxySzP2X"
      },
      "source": [
        "print(X_train[0])\n",
        "for i in range(0,len(X_train)):\n",
        "  a = np.squeeze(X_train[i], axis=0)\n",
        "  X_train[i] = a\n",
        "\n",
        "print(X_train[0])\n",
        "\n",
        "for i in range(0,len(X_test)):\n",
        "  a = np.squeeze(X_test[i], axis=0)\n",
        "  X_test[i] = a\n",
        "\n",
        "print(X_test[0])"
      ],
      "execution_count": null,
      "outputs": []
    },
    {
      "cell_type": "code",
      "metadata": {
        "id": "HNf-sUK-ymRM"
      },
      "source": [
        "#INTRODUCING PCA AND FITTING THE MODEL INTO X_TRAIN\n",
        "from sklearn.decomposition import PCA\n",
        "t= time.time()\n",
        "pca = PCA(n_components=150 , svd_solver='randomized' , whiten=True).fit(X_train)\n",
        "#print(\"Time evolved\", time.time()-t)"
      ],
      "execution_count": null,
      "outputs": []
    },
    {
      "cell_type": "code",
      "metadata": {
        "id": "6bwctMxvy_D3"
      },
      "source": [
        "#APPLYING THE PRE-PROCESSED DATA INTO SVM\n",
        "from sklearn.svm import SVC\n",
        "from sklearn.model_selection import train_test_split , GridSearchCV\n",
        "from sklearn.metrics import confusion_matrix, classification_report , accuracy_score\n",
        "X_train_pca = pca.transform(X_train)\n",
        "X_test_pca = pca.transform(X_test)\n",
        "svm = SVC(kernel='rbf' , class_weight='balanced' , C=1000 , gamma=0.0082)\n",
        "svm.fit(X_train_pca , Y_train)"
      ],
      "execution_count": null,
      "outputs": []
    },
    {
      "cell_type": "code",
      "metadata": {
        "id": "-tfpaLt-0pbG"
      },
      "source": [
        "#TRAINING SCORE\n",
        "print(svm.score(X_train_pca , Y_train))"
      ],
      "execution_count": null,
      "outputs": []
    },
    {
      "cell_type": "code",
      "metadata": {
        "id": "DzqS454H1kZk"
      },
      "source": [
        "#ARTIFICALLY CREATING A HUGE DATASET FOR TRAINING PURPORE SINCE THE IMAGES OF SAME PERSON ARE CONTINUOUS AND WE NEED DIVERSE I/P\n",
        "X_t = []\n",
        "Y_t = []\n",
        "import random\n",
        "for i in range(0,100000):\n",
        "  a = random.randint(0,10000)\n",
        "  for i in range(0,1):\n",
        "    ind = a + i\n",
        "    X_t.append(X_train_pca[ind])\n",
        "    Y_t.append(Y_train[ind])\n",
        "\n",
        "print(len(X_t))\n",
        "print(len(Y_t))\n"
      ],
      "execution_count": null,
      "outputs": []
    },
    {
      "cell_type": "code",
      "metadata": {
        "id": "lNXBoHnB3Nfk"
      },
      "source": [
        "Y_t[0:100]"
      ],
      "execution_count": null,
      "outputs": []
    },
    {
      "cell_type": "code",
      "metadata": {
        "id": "jRMNT0hE3RdL"
      },
      "source": [
        "svm.fit(X_t , Y_t)"
      ],
      "execution_count": null,
      "outputs": []
    },
    {
      "cell_type": "code",
      "metadata": {
        "id": "sgkHEBHI3skd"
      },
      "source": [
        "#SCORE ON TESTING MODEL\n",
        "print(svm.score(X_test_pca , Y_test))"
      ],
      "execution_count": null,
      "outputs": []
    },
    {
      "cell_type": "code",
      "metadata": {
        "id": "_WVmuof13vQA"
      },
      "source": [
        "#PREDICTION FOR A IMAGE\n",
        "a = X_test_pca[0]\n",
        "k = np.expand_dims(a,axis=0)\n",
        "p = svm.predict(k)"
      ],
      "execution_count": null,
      "outputs": []
    },
    {
      "cell_type": "code",
      "metadata": {
        "id": "Fdn7KrzM4e_c"
      },
      "source": [
        "Y_test[0]\n",
        "p[0]"
      ],
      "execution_count": null,
      "outputs": []
    },
    {
      "cell_type": "code",
      "metadata": {
        "id": "QcSsbjk54hU7"
      },
      "source": [
        "#SEEING THE NUMBER OF CORRECTLY AND FALSELY LABELED ANSWERS\n",
        "true_ = 0\n",
        "false_ = 0\n",
        "\n",
        "for i in range(0,len(X_test_pca)):\n",
        "  a = X_test_pca[i]\n",
        "  k = np.expand_dims(a,axis=0)\n",
        "  p = svm.predict(k)\n",
        "  if p[0] == Y_test[i]:\n",
        "    true_ +=1\n",
        "\n",
        "  else:\n",
        "    false_ +=1\n",
        "\n",
        "print(true_)\n",
        "print(false_)"
      ],
      "execution_count": null,
      "outputs": []
    },
    {
      "cell_type": "code",
      "metadata": {
        "id": "NtdSGGhG5I9k"
      },
      "source": [
        "Labels[99]"
      ],
      "execution_count": null,
      "outputs": []
    },
    {
      "cell_type": "code",
      "metadata": {
        "id": "SQtvMtGn5e8t"
      },
      "source": [
        "#CREATING DICTIONARY FOR DIFFERENT labels->Labels and Labels->labels\n",
        "res_names = dict(zip(Labels, labels))\n",
        "res_labels = dict(zip(labels, Labels))"
      ],
      "execution_count": null,
      "outputs": []
    },
    {
      "cell_type": "code",
      "metadata": {
        "id": "ZyMSJD-86W5A"
      },
      "source": [
        "res_names[67]"
      ],
      "execution_count": null,
      "outputs": []
    },
    {
      "cell_type": "code",
      "metadata": {
        "id": "cz6edg2Ai-FL"
      },
      "source": [
        "print(width)"
      ],
      "execution_count": null,
      "outputs": []
    },
    {
      "cell_type": "code",
      "metadata": {
        "id": "wF4rXEYG6ake"
      },
      "source": [
        "#CHECKING ON A IMAGE FROM INTERNET\n",
        "im = cv2.imread('/content/800px-Mark_Zuckerberg_F8_2019_Keynote_(32830578717)_(cropped).jpg')\n",
        "image = cv2.resize(im, (224,224), interpolation = cv2.INTER_AREA)\n",
        "image = np.expand_dims(image, axis=0)\n",
        "imgs_representation = vgg_face_descriptor.predict(image)\n",
        "imgs  = pca.transform(imgs_representation)\n",
        "k = np.expand_dims(imgs,axis=0)\n",
        "p = svm.predict(imgs)\n",
        "\n",
        "index = p[0]\n",
        "\n",
        "#X_train = encodings_arr\n",
        "print(res_names[index])"
      ],
      "execution_count": null,
      "outputs": []
    },
    {
      "cell_type": "code",
      "metadata": {
        "id": "TToo1aevjof0"
      },
      "source": [
        "plt.imshow(image[0])"
      ],
      "execution_count": null,
      "outputs": []
    },
    {
      "cell_type": "code",
      "metadata": {
        "id": "et8AvbDEA1yP"
      },
      "source": [
        "i = 62"
      ],
      "execution_count": null,
      "outputs": []
    },
    {
      "cell_type": "code",
      "metadata": {
        "id": "iS39jG448uqy"
      },
      "source": [
        "import sklearn\n",
        "a = encodings_arr[0]\n",
        "a = np.expand_dims(a, axis=0)\n",
        "b = encodings_arr[i]\n",
        "b = np.expand_dims(b, axis=0)\n",
        "n = sklearn.metrics.pairwise.cosine_similarity(a,b)\n",
        "print(n[0][0])"
      ],
      "execution_count": null,
      "outputs": []
    },
    {
      "cell_type": "code",
      "metadata": {
        "id": "W_9EW68mAYZ7"
      },
      "source": [
        "labels[i]"
      ],
      "execution_count": null,
      "outputs": []
    },
    {
      "cell_type": "code",
      "metadata": {
        "id": "pbD3MJt6AxKN"
      },
      "source": [
        "#calculate cosine similaarity for images\n",
        "def cosine_sim(i,j):\n",
        "  a = encodings_arr[i]\n",
        "  a = np.expand_dims(a, axis=0)\n",
        "  b = encodings_arr[j]\n",
        "  b = np.expand_dims(b, axis=0)\n",
        "  n = sklearn.metrics.pairwise.cosine_similarity(a,b)\n",
        "  print(n[0][0])\n",
        "  if (n[0][0] >= 0.65):\n",
        "    print(\"Similar Faces\")\n",
        "    print(labels[i])\n",
        "  else:\n",
        "    print(\"Dissimilar Faces\")"
      ],
      "execution_count": null,
      "outputs": []
    },
    {
      "cell_type": "code",
      "metadata": {
        "id": "xfkHunCYB3mQ"
      },
      "source": [
        "#playing around\n",
        "a = random.randint(0,100)\n",
        "b = random.randint(0,100)\n",
        "cosine_sim(a,b)\n",
        "print(a,b)"
      ],
      "execution_count": null,
      "outputs": []
    },
    {
      "cell_type": "code",
      "metadata": {
        "id": "FTLk8WfzKq3y"
      },
      "source": [
        ""
      ],
      "execution_count": null,
      "outputs": []
    }
  ]
}